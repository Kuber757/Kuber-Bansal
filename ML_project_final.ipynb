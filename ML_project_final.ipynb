{
  "nbformat": 4,
  "nbformat_minor": 0,
  "metadata": {
    "colab": {
      "name": "ML_project_final.ipynb",
      "provenance": [],
      "collapsed_sections": []
    },
    "kernelspec": {
      "name": "python3",
      "display_name": "Python 3"
    }
  },
  "cells": [
    {
      "cell_type": "code",
      "metadata": {
        "id": "zyfzxLOcN6t2",
        "colab_type": "code",
        "colab": {}
      },
      "source": [
        "import numpy as np\n",
        "import matplotlib.pyplot as plt\n",
        "from scipy.integrate import odeint\n",
        "import matplotlib.colors as mcolors\n",
        "import pandas as pd \n",
        "import random\n",
        "import math\n",
        "import time\n",
        "import requests\n",
        "import bs4\n",
        "import lxml.etree as xml\n",
        "from bs4 import BeautifulSoup\n",
        "import csv, json, requests, sys\n",
        "from pandas.io.html import read_html\n",
        "from matplotlib.ticker import ScalarFormatter"
      ],
      "execution_count": 0,
      "outputs": []
    },
    {
      "cell_type": "code",
      "metadata": {
        "id": "GmjfjNBqRHat",
        "colab_type": "code",
        "outputId": "4e5a94bc-a9c4-4c9b-accb-66eb5740a64b",
        "colab": {
          "base_uri": "https://localhost:8080/",
          "height": 98
        }
      },
      "source": [
        "!pip install lmfit"
      ],
      "execution_count": 55,
      "outputs": [
        {
          "output_type": "stream",
          "text": [
            "Requirement already satisfied: lmfit in /usr/local/lib/python3.6/dist-packages (1.0.0)\n",
            "Requirement already satisfied: uncertainties>=3.0.1 in /usr/local/lib/python3.6/dist-packages (from lmfit) (3.1.2)\n",
            "Requirement already satisfied: numpy>=1.16 in /usr/local/lib/python3.6/dist-packages (from lmfit) (1.18.3)\n",
            "Requirement already satisfied: asteval>=0.9.16 in /usr/local/lib/python3.6/dist-packages (from lmfit) (0.9.18)\n",
            "Requirement already satisfied: scipy>=1.2 in /usr/local/lib/python3.6/dist-packages (from lmfit) (1.4.1)\n"
          ],
          "name": "stdout"
        }
      ]
    },
    {
      "cell_type": "code",
      "metadata": {
        "colab_type": "code",
        "id": "Ow6XMU8yRRUU",
        "colab": {}
      },
      "source": [
        "from scipy.integrate import odeint\n",
        "import seaborn as sns\n",
        "import matplotlib.dates as mdates\n",
        "from matplotlib import dates\n",
        "from sklearn.metrics import mean_squared_error, r2_score\n",
        "from datetime import datetime\n",
        "from lmfit import minimize, Parameters, Parameter, report_fit"
      ],
      "execution_count": 0,
      "outputs": []
    },
    {
      "cell_type": "code",
      "metadata": {
        "id": "cadFgGFZJzpQ",
        "colab_type": "code",
        "colab": {}
      },
      "source": [
        "from sklearn.metrics import r2_score"
      ],
      "execution_count": 0,
      "outputs": []
    },
    {
      "cell_type": "code",
      "metadata": {
        "id": "SbRD7ZyIXL70",
        "colab_type": "code",
        "colab": {}
      },
      "source": [
        "def line_plot(df, title, xlabel=None, ylabel=\"Cases\", h=None, v=None,\n",
        "              xlim=(None, None), ylim=(0, None), math_scale=True, y_logscale=False, y_integer=False):\n",
        "\n",
        "    ax = df.plot()\n",
        "    if math_scale:\n",
        "        ax.yaxis.set_major_formatter(ScalarFormatter(useMathText=True))\n",
        "        ax.ticklabel_format(style=\"sci\",  axis=\"y\",scilimits=(0, 0))\n",
        "    if y_logscale:\n",
        "        ax.set_yscale(\"log\")\n",
        "    if y_integer:\n",
        "        fmt = matplotlib.ticker.ScalarFormatter(useOffset=False)\n",
        "        fmt.set_scientific(False)\n",
        "        ax.yaxis.set_major_formatter(fmt)\n",
        "    ax.set_title(title)\n",
        "    ax.set_xlabel(xlabel)\n",
        "    ax.set_ylabel(ylabel)\n",
        "    ax.set_xlim(*xlim)\n",
        "    ax.set_ylim(*ylim)\n",
        "    ax.legend(bbox_to_anchor=(1.02, 0), loc=\"lower left\", borderaxespad=0)\n",
        "    if h is not None:\n",
        "        ax.axhline(y=h, color=\"black\", linestyle=\"--\")\n",
        "    if v is not None:\n",
        "        if not isinstance(v, list):\n",
        "            v = [v]\n",
        "        for value in v:\n",
        "            ax.axvline(x=value, color=\"black\", linestyle=\"--\")\n",
        "    plt.tight_layout()\n",
        "    plt.show()"
      ],
      "execution_count": 0,
      "outputs": []
    },
    {
      "cell_type": "code",
      "metadata": {
        "id": "_o5NjO7HOCCL",
        "colab_type": "code",
        "colab": {}
      },
      "source": [
        "url  ='https://en.wikipedia.org/wiki/2020_coronavirus_pandemic_in_India'\n",
        "content = requests.get(url)\n",
        "soup = BeautifulSoup(content.content, 'lxml')\n",
        "record = read_html(url,  attrs={\"class\":\"wikitable mw-collapsible\"})\n",
        "main = pd.DataFrame(record[0])"
      ],
      "execution_count": 0,
      "outputs": []
    },
    {
      "cell_type": "code",
      "metadata": {
        "id": "nzTXzqP_P5KQ",
        "colab_type": "code",
        "outputId": "01013fe8-e6a0-4ce2-82f2-67225edaf91f",
        "colab": {
          "base_uri": "https://localhost:8080/",
          "height": 305
        }
      },
      "source": [
        "main.head()"
      ],
      "execution_count": 60,
      "outputs": [
        {
          "output_type": "execute_result",
          "data": {
            "text/html": [
              "<div>\n",
              "<style scoped>\n",
              "    .dataframe tbody tr th:only-of-type {\n",
              "        vertical-align: middle;\n",
              "    }\n",
              "\n",
              "    .dataframe tbody tr th {\n",
              "        vertical-align: top;\n",
              "    }\n",
              "\n",
              "    .dataframe thead tr th {\n",
              "        text-align: left;\n",
              "    }\n",
              "</style>\n",
              "<table border=\"1\" class=\"dataframe\">\n",
              "  <thead>\n",
              "    <tr>\n",
              "      <th></th>\n",
              "      <th>Date (2020)</th>\n",
              "      <th colspan=\"33\" halign=\"left\">State/Union Territory</th>\n",
              "      <th colspan=\"2\" halign=\"left\">Cases[a]</th>\n",
              "      <th>Diff.</th>\n",
              "      <th colspan=\"2\" halign=\"left\">Deaths</th>\n",
              "      <th>Source(s)</th>\n",
              "    </tr>\n",
              "    <tr>\n",
              "      <th></th>\n",
              "      <th>Date (2020)</th>\n",
              "      <th>Andaman and Nicobar Islands</th>\n",
              "      <th>Andhra Pradesh</th>\n",
              "      <th>Arunachal Pradesh</th>\n",
              "      <th>Assam</th>\n",
              "      <th>Bihar</th>\n",
              "      <th>Chandigarh</th>\n",
              "      <th>Chhattisgarh</th>\n",
              "      <th>Delhi</th>\n",
              "      <th>Goa</th>\n",
              "      <th>Gujarat</th>\n",
              "      <th>Haryana</th>\n",
              "      <th>Himachal Pradesh</th>\n",
              "      <th>Jammu and Kashmir</th>\n",
              "      <th>Jharkhand</th>\n",
              "      <th>Karnataka</th>\n",
              "      <th>Kerala</th>\n",
              "      <th>Ladakh</th>\n",
              "      <th>Madhya Pradesh</th>\n",
              "      <th>Maharashtra</th>\n",
              "      <th>Manipur</th>\n",
              "      <th>Meghalaya</th>\n",
              "      <th>Mizoram</th>\n",
              "      <th>Nagaland</th>\n",
              "      <th>Odisha</th>\n",
              "      <th>Puducherry</th>\n",
              "      <th>Punjab</th>\n",
              "      <th>Rajasthan</th>\n",
              "      <th>Tamil Nadu</th>\n",
              "      <th>Telangana</th>\n",
              "      <th>Tripura</th>\n",
              "      <th>Uttarakhand</th>\n",
              "      <th>Uttar Pradesh</th>\n",
              "      <th>West Bengal</th>\n",
              "      <th>New</th>\n",
              "      <th>Total</th>\n",
              "      <th>Diff.</th>\n",
              "      <th>New</th>\n",
              "      <th>Total</th>\n",
              "      <th>Source(s)</th>\n",
              "    </tr>\n",
              "  </thead>\n",
              "  <tbody>\n",
              "    <tr>\n",
              "      <th>0</th>\n",
              "      <td>Jan-30</td>\n",
              "      <td>NaN</td>\n",
              "      <td>NaN</td>\n",
              "      <td>NaN</td>\n",
              "      <td>NaN</td>\n",
              "      <td>NaN</td>\n",
              "      <td>NaN</td>\n",
              "      <td>NaN</td>\n",
              "      <td>NaN</td>\n",
              "      <td>NaN</td>\n",
              "      <td>NaN</td>\n",
              "      <td>NaN</td>\n",
              "      <td>NaN</td>\n",
              "      <td>NaN</td>\n",
              "      <td>NaN</td>\n",
              "      <td>NaN</td>\n",
              "      <td>1</td>\n",
              "      <td>NaN</td>\n",
              "      <td>NaN</td>\n",
              "      <td>NaN</td>\n",
              "      <td>NaN</td>\n",
              "      <td>NaN</td>\n",
              "      <td>NaN</td>\n",
              "      <td>NaN</td>\n",
              "      <td>NaN</td>\n",
              "      <td>NaN</td>\n",
              "      <td>NaN</td>\n",
              "      <td>NaN</td>\n",
              "      <td>NaN</td>\n",
              "      <td>NaN</td>\n",
              "      <td>NaN</td>\n",
              "      <td>NaN</td>\n",
              "      <td>NaN</td>\n",
              "      <td>NaN</td>\n",
              "      <td>1</td>\n",
              "      <td>1</td>\n",
              "      <td>—</td>\n",
              "      <td>NaN</td>\n",
              "      <td>NaN</td>\n",
              "      <td>NaN</td>\n",
              "    </tr>\n",
              "    <tr>\n",
              "      <th>1</th>\n",
              "      <td>Feb-02</td>\n",
              "      <td>NaN</td>\n",
              "      <td>NaN</td>\n",
              "      <td>NaN</td>\n",
              "      <td>NaN</td>\n",
              "      <td>NaN</td>\n",
              "      <td>NaN</td>\n",
              "      <td>NaN</td>\n",
              "      <td>NaN</td>\n",
              "      <td>NaN</td>\n",
              "      <td>NaN</td>\n",
              "      <td>NaN</td>\n",
              "      <td>NaN</td>\n",
              "      <td>NaN</td>\n",
              "      <td>NaN</td>\n",
              "      <td>NaN</td>\n",
              "      <td>1</td>\n",
              "      <td>NaN</td>\n",
              "      <td>NaN</td>\n",
              "      <td>NaN</td>\n",
              "      <td>NaN</td>\n",
              "      <td>NaN</td>\n",
              "      <td>NaN</td>\n",
              "      <td>NaN</td>\n",
              "      <td>NaN</td>\n",
              "      <td>NaN</td>\n",
              "      <td>NaN</td>\n",
              "      <td>NaN</td>\n",
              "      <td>NaN</td>\n",
              "      <td>NaN</td>\n",
              "      <td>NaN</td>\n",
              "      <td>NaN</td>\n",
              "      <td>NaN</td>\n",
              "      <td>NaN</td>\n",
              "      <td>1</td>\n",
              "      <td>2</td>\n",
              "      <td>+100%</td>\n",
              "      <td>NaN</td>\n",
              "      <td>NaN</td>\n",
              "      <td>NaN</td>\n",
              "    </tr>\n",
              "    <tr>\n",
              "      <th>2</th>\n",
              "      <td>Feb-03</td>\n",
              "      <td>NaN</td>\n",
              "      <td>NaN</td>\n",
              "      <td>NaN</td>\n",
              "      <td>NaN</td>\n",
              "      <td>NaN</td>\n",
              "      <td>NaN</td>\n",
              "      <td>NaN</td>\n",
              "      <td>NaN</td>\n",
              "      <td>NaN</td>\n",
              "      <td>NaN</td>\n",
              "      <td>NaN</td>\n",
              "      <td>NaN</td>\n",
              "      <td>NaN</td>\n",
              "      <td>NaN</td>\n",
              "      <td>NaN</td>\n",
              "      <td>1</td>\n",
              "      <td>NaN</td>\n",
              "      <td>NaN</td>\n",
              "      <td>NaN</td>\n",
              "      <td>NaN</td>\n",
              "      <td>NaN</td>\n",
              "      <td>NaN</td>\n",
              "      <td>NaN</td>\n",
              "      <td>NaN</td>\n",
              "      <td>NaN</td>\n",
              "      <td>NaN</td>\n",
              "      <td>NaN</td>\n",
              "      <td>NaN</td>\n",
              "      <td>NaN</td>\n",
              "      <td>NaN</td>\n",
              "      <td>NaN</td>\n",
              "      <td>NaN</td>\n",
              "      <td>NaN</td>\n",
              "      <td>1</td>\n",
              "      <td>3</td>\n",
              "      <td>+50%</td>\n",
              "      <td>NaN</td>\n",
              "      <td>NaN</td>\n",
              "      <td>NaN</td>\n",
              "    </tr>\n",
              "    <tr>\n",
              "      <th>3</th>\n",
              "      <td>Mar-02</td>\n",
              "      <td>NaN</td>\n",
              "      <td>NaN</td>\n",
              "      <td>NaN</td>\n",
              "      <td>NaN</td>\n",
              "      <td>NaN</td>\n",
              "      <td>NaN</td>\n",
              "      <td>NaN</td>\n",
              "      <td>1</td>\n",
              "      <td>NaN</td>\n",
              "      <td>NaN</td>\n",
              "      <td>NaN</td>\n",
              "      <td>NaN</td>\n",
              "      <td>NaN</td>\n",
              "      <td>NaN</td>\n",
              "      <td>NaN</td>\n",
              "      <td>NaN</td>\n",
              "      <td>NaN</td>\n",
              "      <td>NaN</td>\n",
              "      <td>NaN</td>\n",
              "      <td>NaN</td>\n",
              "      <td>NaN</td>\n",
              "      <td>NaN</td>\n",
              "      <td>NaN</td>\n",
              "      <td>NaN</td>\n",
              "      <td>NaN</td>\n",
              "      <td>NaN</td>\n",
              "      <td>NaN</td>\n",
              "      <td>NaN</td>\n",
              "      <td>1</td>\n",
              "      <td>NaN</td>\n",
              "      <td>NaN</td>\n",
              "      <td>NaN</td>\n",
              "      <td>NaN</td>\n",
              "      <td>2</td>\n",
              "      <td>5</td>\n",
              "      <td>+67%</td>\n",
              "      <td>NaN</td>\n",
              "      <td>NaN</td>\n",
              "      <td>[474]</td>\n",
              "    </tr>\n",
              "    <tr>\n",
              "      <th>4</th>\n",
              "      <td>Mar-03</td>\n",
              "      <td>NaN</td>\n",
              "      <td>NaN</td>\n",
              "      <td>NaN</td>\n",
              "      <td>NaN</td>\n",
              "      <td>NaN</td>\n",
              "      <td>NaN</td>\n",
              "      <td>NaN</td>\n",
              "      <td>NaN</td>\n",
              "      <td>NaN</td>\n",
              "      <td>NaN</td>\n",
              "      <td>NaN</td>\n",
              "      <td>NaN</td>\n",
              "      <td>NaN</td>\n",
              "      <td>NaN</td>\n",
              "      <td>NaN</td>\n",
              "      <td>NaN</td>\n",
              "      <td>NaN</td>\n",
              "      <td>NaN</td>\n",
              "      <td>NaN</td>\n",
              "      <td>NaN</td>\n",
              "      <td>NaN</td>\n",
              "      <td>NaN</td>\n",
              "      <td>NaN</td>\n",
              "      <td>NaN</td>\n",
              "      <td>NaN</td>\n",
              "      <td>NaN</td>\n",
              "      <td>1</td>\n",
              "      <td>NaN</td>\n",
              "      <td>NaN</td>\n",
              "      <td>NaN</td>\n",
              "      <td>NaN</td>\n",
              "      <td>NaN</td>\n",
              "      <td>NaN</td>\n",
              "      <td>1</td>\n",
              "      <td>6</td>\n",
              "      <td>+20%</td>\n",
              "      <td>NaN</td>\n",
              "      <td>NaN</td>\n",
              "      <td>[475]</td>\n",
              "    </tr>\n",
              "  </tbody>\n",
              "</table>\n",
              "</div>"
            ],
            "text/plain": [
              "  Date (2020)       State/Union Territory                 ... Deaths       Source(s)\n",
              "  Date (2020) Andaman and Nicobar Islands Andhra Pradesh  ...    New Total Source(s)\n",
              "0      Jan-30                         NaN            NaN  ...    NaN   NaN       NaN\n",
              "1      Feb-02                         NaN            NaN  ...    NaN   NaN       NaN\n",
              "2      Feb-03                         NaN            NaN  ...    NaN   NaN       NaN\n",
              "3      Mar-02                         NaN            NaN  ...    NaN   NaN     [474]\n",
              "4      Mar-03                         NaN            NaN  ...    NaN   NaN     [475]\n",
              "\n",
              "[5 rows x 40 columns]"
            ]
          },
          "metadata": {
            "tags": []
          },
          "execution_count": 60
        }
      ]
    },
    {
      "cell_type": "code",
      "metadata": {
        "id": "GU92DGjfOFjJ",
        "colab_type": "code",
        "colab": {}
      },
      "source": [
        "cases_india=np.array(main['Cases[a]'])\n",
        "dates_india=np.array(main['Date (2020)'])\n",
        "deaths_india=np.array(main['Deaths'])\n",
        "cases_india = np.delete(cases_india, 0, 1)"
      ],
      "execution_count": 0,
      "outputs": []
    },
    {
      "cell_type": "code",
      "metadata": {
        "id": "lxOAaLw0WNxj",
        "colab_type": "code",
        "outputId": "77ca9604-aeec-4c51-f2b7-1089b66535c0",
        "colab": {
          "base_uri": "https://localhost:8080/",
          "height": 277
        }
      },
      "source": [
        "raw = pd.read_csv(\"covid_19_data.csv\")\n",
        "raw.describe()"
      ],
      "execution_count": 62,
      "outputs": [
        {
          "output_type": "execute_result",
          "data": {
            "text/html": [
              "<div>\n",
              "<style scoped>\n",
              "    .dataframe tbody tr th:only-of-type {\n",
              "        vertical-align: middle;\n",
              "    }\n",
              "\n",
              "    .dataframe tbody tr th {\n",
              "        vertical-align: top;\n",
              "    }\n",
              "\n",
              "    .dataframe thead th {\n",
              "        text-align: right;\n",
              "    }\n",
              "</style>\n",
              "<table border=\"1\" class=\"dataframe\">\n",
              "  <thead>\n",
              "    <tr style=\"text-align: right;\">\n",
              "      <th></th>\n",
              "      <th>SNo</th>\n",
              "      <th>Confirmed</th>\n",
              "      <th>Deaths</th>\n",
              "      <th>Recovered</th>\n",
              "    </tr>\n",
              "  </thead>\n",
              "  <tbody>\n",
              "    <tr>\n",
              "      <th>count</th>\n",
              "      <td>14171.000000</td>\n",
              "      <td>14171.000000</td>\n",
              "      <td>14171.000000</td>\n",
              "      <td>14171.000000</td>\n",
              "    </tr>\n",
              "    <tr>\n",
              "      <th>mean</th>\n",
              "      <td>7086.000000</td>\n",
              "      <td>1796.447675</td>\n",
              "      <td>90.167949</td>\n",
              "      <td>441.899372</td>\n",
              "    </tr>\n",
              "    <tr>\n",
              "      <th>std</th>\n",
              "      <td>4090.959667</td>\n",
              "      <td>10017.978360</td>\n",
              "      <td>790.707358</td>\n",
              "      <td>3765.685067</td>\n",
              "    </tr>\n",
              "    <tr>\n",
              "      <th>min</th>\n",
              "      <td>1.000000</td>\n",
              "      <td>0.000000</td>\n",
              "      <td>0.000000</td>\n",
              "      <td>0.000000</td>\n",
              "    </tr>\n",
              "    <tr>\n",
              "      <th>25%</th>\n",
              "      <td>3543.500000</td>\n",
              "      <td>6.000000</td>\n",
              "      <td>0.000000</td>\n",
              "      <td>0.000000</td>\n",
              "    </tr>\n",
              "    <tr>\n",
              "      <th>50%</th>\n",
              "      <td>7086.000000</td>\n",
              "      <td>62.000000</td>\n",
              "      <td>0.000000</td>\n",
              "      <td>1.000000</td>\n",
              "    </tr>\n",
              "    <tr>\n",
              "      <th>75%</th>\n",
              "      <td>10628.500000</td>\n",
              "      <td>412.500000</td>\n",
              "      <td>4.000000</td>\n",
              "      <td>30.000000</td>\n",
              "    </tr>\n",
              "    <tr>\n",
              "      <th>max</th>\n",
              "      <td>14171.000000</td>\n",
              "      <td>181026.000000</td>\n",
              "      <td>19468.000000</td>\n",
              "      <td>64264.000000</td>\n",
              "    </tr>\n",
              "  </tbody>\n",
              "</table>\n",
              "</div>"
            ],
            "text/plain": [
              "                SNo      Confirmed        Deaths     Recovered\n",
              "count  14171.000000   14171.000000  14171.000000  14171.000000\n",
              "mean    7086.000000    1796.447675     90.167949    441.899372\n",
              "std     4090.959667   10017.978360    790.707358   3765.685067\n",
              "min        1.000000       0.000000      0.000000      0.000000\n",
              "25%     3543.500000       6.000000      0.000000      0.000000\n",
              "50%     7086.000000      62.000000      0.000000      1.000000\n",
              "75%    10628.500000     412.500000      4.000000     30.000000\n",
              "max    14171.000000  181026.000000  19468.000000  64264.000000"
            ]
          },
          "metadata": {
            "tags": []
          },
          "execution_count": 62
        }
      ]
    },
    {
      "cell_type": "code",
      "metadata": {
        "id": "swdKccXSOH2L",
        "colab_type": "code",
        "outputId": "60e638b6-c12f-465e-e4b2-817c87adb7c1",
        "colab": {
          "base_uri": "https://localhost:8080/",
          "height": 98
        }
      },
      "source": [
        "a=cases_india.size\n",
        "infected = [None]*(a-4)\n",
        "dates_india_final = [None]*(a-4)\n",
        "for i in range ((a)-4):\n",
        "  infected[i]=cases_india[i][0]\n",
        "  dates_india_final[i] = dates_india[i][0]\n",
        "infected = np.asarray(infected, dtype=np.int64)\n",
        "infected.astype(int)\n",
        "print(infected)"
      ],
      "execution_count": 63,
      "outputs": [
        {
          "output_type": "stream",
          "text": [
            "[    1     2     3     5     6    28    30    31    34    39    44    50\n",
            "    60    73    81    97   107   118   137   151   173   223   283   360\n",
            "   434   519   606   694   834   918  1024  1251  1397  1834  2069  2547\n",
            "  3072  3577  4281  4789  5274  5865  6761  7529  8447  9352 10815 11933\n",
            " 12759 13835 14792 16116 17656 18985 20471 21700 23452 24942 26917]\n"
          ],
          "name": "stdout"
        }
      ]
    },
    {
      "cell_type": "code",
      "metadata": {
        "id": "gEcapWSnM452",
        "colab_type": "code",
        "outputId": "c2d8f4d4-ba8b-4cc7-d2d3-f832c11e3ed6",
        "colab": {
          "base_uri": "https://localhost:8080/",
          "height": 297
        }
      },
      "source": [
        "dates_india_final = dates_india_final[:-1]\n",
        "a = infected.size\n",
        "rate_infection = [None]*(a-1)\n",
        "for i in range (a-1):\n",
        "  rate_infection[i] = infected[i+1] - infected[i]\n",
        "rate_infections = pd.DataFrame(rate_infection, index=dates_india_final, columns =['Growth rate'])\n",
        "line_plot(rate_infections,\"Growth Rate of infection India\")"
      ],
      "execution_count": 64,
      "outputs": [
        {
          "output_type": "display_data",
          "data": {
            "image/png": "[encoded data removed]",
            "text/plain": [
              "<Figure size 432x288 with 1 Axes>"
            ]
          },
          "metadata": {
            "tags": [],
            "needs_background": "light"
          }
        }
      ]
    },
    {
      "cell_type": "code",
      "metadata": {
        "id": "cOyY10YCOKVE",
        "colab_type": "code",
        "outputId": "83c1cfff-f11f-42b2-dbf0-55a801f015ae",
        "colab": {
          "base_uri": "https://localhost:8080/",
          "height": 82
        }
      },
      "source": [
        "df = pd.DataFrame(deaths_india, columns =['Tag', 'number'])  \n",
        "df1 = df.drop(len(df)-1)\n",
        "df1 = df1.drop(len(df1)-1)\n",
        "df1 = df1.drop(len(df1)-1)\n",
        "df1 = df1.drop(len(df1)-1)\n",
        "df1 = df1.drop(['Tag'],axis = 1)\n",
        "df1=df1.replace(to_replace = np.nan, value = 0) \n",
        "deaths = df1.to_numpy()\n",
        "deaths = np.asarray(deaths, dtype=np.int64)\n",
        "deaths = deaths.astype(int)\n",
        "deaths1 = deaths.flatten()\n",
        "print(deaths1) "
      ],
      "execution_count": 65,
      "outputs": [
        {
          "output_type": "stream",
          "text": [
            "[  0   0   0   0   0   0   0   0   0   0   0   0   0   1   1   2   2   2\n",
            "   3   3   4   4   4   7   9   9  12  16  18  20  27  32  35  41  53  62\n",
            "  75  83 111 124 149 169 206 242 273 324 353 392 420 452 488 519 559 603\n",
            " 652 686 723 779 826]\n"
          ],
          "name": "stdout"
        }
      ]
    },
    {
      "cell_type": "code",
      "metadata": {
        "id": "OFafsE96PBht",
        "colab_type": "code",
        "outputId": "a206425e-d4ba-4523-ce9b-89cafe615158",
        "colab": {
          "base_uri": "https://localhost:8080/",
          "height": 297
        }
      },
      "source": [
        "a = deaths1.size\n",
        "rate_death = [None]*(a-1)\n",
        "for i in range (a-1):\n",
        "  rate_death[i] = deaths1[i+1] - deaths1[i]\n",
        "rate_deaths = pd.DataFrame(rate_death, index=dates_india_final, columns =['Growth rate'])\n",
        "line_plot(rate_deaths,\"Growth Rate of deaths in India\")"
      ],
      "execution_count": 66,
      "outputs": [
        {
          "output_type": "display_data",
          "data": {
            "image/png": "[encoded data removed]",
            "text/plain": [
              "<Figure size 432x288 with 1 Axes>"
            ]
          },
          "metadata": {
            "tags": [],
            "needs_background": "light"
          }
        }
      ]
    },
    {
      "cell_type": "code",
      "metadata": {
        "id": "RNfqxwsm4QcK",
        "colab_type": "code",
        "colab": {}
      },
      "source": [
        "a = len(rate_infection)\n",
        "del dates_india_final[0]\n",
        "growth_rate_infection = [None]*(a-1)\n",
        "growth_factor_death = [None]*(a-1)\n",
        "for i in range (a-1):\n",
        "  if rate_infection[i]==0:\n",
        "    growth_rate_infection[i] =0\n",
        "  else:  \n",
        "    growth_rate_infection[i] = rate_infection[i+1]/rate_infection[i]\n",
        "  if rate_death[i]==0:\n",
        "    growth_factor_death[i] =0\n",
        "  else:  \n",
        "    growth_factor_death[i] = rate_death[i+1]/rate_death[i]\n"
      ],
      "execution_count": 0,
      "outputs": []
    },
    {
      "cell_type": "code",
      "metadata": {
        "id": "pNcxT8dA4RUP",
        "colab_type": "code",
        "outputId": "e5f9eb04-c547-4cec-8182-fcd7b60992cc",
        "colab": {
          "base_uri": "https://localhost:8080/",
          "height": 577
        }
      },
      "source": [
        "growth_factor_infection_india = pd.DataFrame(growth_rate_infection, index=dates_india_final, columns =['Growth factor infection'])\n",
        "line_plot(growth_factor_infection_india,\"Growth factor of infection India\")\n",
        "growth_factor_death_india = pd.DataFrame(growth_factor_death, index=dates_india_final, columns =['Growth factor death'])\n",
        "line_plot(growth_factor_death_india,\"Growth factor of death India\")"
      ],
      "execution_count": 68,
      "outputs": [
        {
          "output_type": "display_data",
          "data": {
            "image/png": "[encoded data removed]",
            "text/plain": [
              "<Figure size 432x288 with 1 Axes>"
            ]
          },
          "metadata": {
            "tags": [],
            "needs_background": "light"
          }
        },
        {
          "output_type": "display_data",
          "data": {
            "image/png": "[encoded data removed]",
            "text/plain": [
              "<Figure size 432x288 with 1 Axes>"
            ]
          },
          "metadata": {
            "tags": [],
            "needs_background": "light"
          }
        }
      ]
    },
    {
      "cell_type": "code",
      "metadata": {
        "id": "nUf9DAStOlAr",
        "colab_type": "code",
        "colab": {}
      },
      "source": [
        "days_since_start = np.array([i for i in range(len(infected))]).reshape(-1, 1)"
      ],
      "execution_count": 0,
      "outputs": []
    },
    {
      "cell_type": "code",
      "metadata": {
        "id": "-Rr0mlAiOqlV",
        "colab_type": "code",
        "colab": {}
      },
      "source": [
        "population_dict ={'Global': 7454412229, 'China': 1376807262, 'India': 1339000000, 'US': 327200000, 'Italy': 60480000}"
      ],
      "execution_count": 0,
      "outputs": []
    },
    {
      "cell_type": "code",
      "metadata": {
        "id": "QuCAzyl5PyU-",
        "colab_type": "code",
        "colab": {}
      },
      "source": [
        "us_data = pd.read_excel('USA.xlsx')\n",
        "#us_data.head()"
      ],
      "execution_count": 0,
      "outputs": []
    },
    {
      "cell_type": "code",
      "metadata": {
        "id": "3npcZiQ4PRdq",
        "colab_type": "code",
        "outputId": "4a023d06-12a0-4a1d-e97e-bf32b709e724",
        "colab": {
          "base_uri": "https://localhost:8080/",
          "height": 53
        }
      },
      "source": [
        "pd.DataFrame(raw.isnull().sum()).T\n",
        "\", \".join(raw[\"Country/Region\"].unique().tolist())"
      ],
      "execution_count": 72,
      "outputs": [
        {
          "output_type": "execute_result",
          "data": {
            "text/plain": [
              "\"Mainland China, Hong Kong, Macau, Taiwan, US, Japan, Thailand, South Korea, Singapore, Philippines, Malaysia, Vietnam, Australia, Mexico, Brazil, Colombia, France, Nepal, Canada, Cambodia, Sri Lanka, Ivory Coast, Germany, Finland, United Arab Emirates, India, Italy, UK, Russia, Sweden, Spain, Belgium, Others, Egypt, Iran, Israel, Lebanon, Iraq, Oman, Afghanistan, Bahrain, Kuwait, Austria, Algeria, Croatia, Switzerland, Pakistan, Georgia, Greece, North Macedonia, Norway, Romania, Denmark, Estonia, Netherlands, San Marino,  Azerbaijan, Belarus, Iceland, Lithuania, New Zealand, Nigeria, North Ireland, Ireland, Luxembourg, Monaco, Qatar, Ecuador, Azerbaijan, Czech Republic, Armenia, Dominican Republic, Indonesia, Portugal, Andorra, Latvia, Morocco, Saudi Arabia, Senegal, Argentina, Chile, Jordan, Ukraine, Saint Barthelemy, Hungary, Faroe Islands, Gibraltar, Liechtenstein, Poland, Tunisia, Palestine, Bosnia and Herzegovina, Slovenia, South Africa, Bhutan, Cameroon, Costa Rica, Peru, Serbia, Slovakia, Togo, Vatican City, French Guiana, Malta, Martinique, Republic of Ireland, Bulgaria, Maldives, Bangladesh, Moldova, Paraguay, Albania, Cyprus, St. Martin, Brunei, occupied Palestinian territory, ('St. Martin',), Burkina Faso, Channel Islands, Holy See, Mongolia, Panama, Bolivia, Honduras, Congo (Kinshasa), Jamaica, Reunion, Turkey, Cuba, Guyana, Kazakhstan, Cayman Islands, Guadeloupe, Ethiopia, Sudan, Guinea, Antigua and Barbuda, Aruba, Kenya, Uruguay, Ghana, Jersey, Namibia, Seychelles, Trinidad and Tobago, Venezuela, Curacao, Eswatini, Gabon, Guatemala, Guernsey, Mauritania, Rwanda, Saint Lucia, Saint Vincent and the Grenadines, Suriname, Kosovo, Central African Republic, Congo (Brazzaville), Equatorial Guinea, Uzbekistan, Guam, Puerto Rico, Benin, Greenland, Liberia, Mayotte, Republic of the Congo, Somalia, Tanzania, The Bahamas, Barbados, Montenegro, The Gambia, Kyrgyzstan, Mauritius, Zambia, Djibouti, Gambia, The, Bahamas, The, Chad, El Salvador, Fiji, Nicaragua, Madagascar, Haiti, Angola, Cabo Verde, Niger, Papua New Guinea, Zimbabwe, Cape Verde, East Timor, Eritrea, Uganda, Bahamas, Dominica, Gambia, Grenada, Mozambique, Syria, Timor-Leste, Belize, Laos, Libya, Diamond Princess, Guinea-Bissau, Mali, Saint Kitts and Nevis, West Bank and Gaza, Burma, MS Zaandam, Botswana, Burundi, Sierra Leone, Malawi, South Sudan, Western Sahara, Sao Tome and Principe, Yemen\""
            ]
          },
          "metadata": {
            "tags": []
          },
          "execution_count": 72
        }
      ]
    },
    {
      "cell_type": "code",
      "metadata": {
        "id": "3InBl-4mPSPA",
        "colab_type": "code",
        "colab": {}
      },
      "source": [
        "data_cols = [\"Infected\", \"Deaths\", \"Recovered\"]\n",
        "data_cols_all = [\"Confirmed\", \"Infected\", \"Deaths\", \"Recovered\"]\n",
        "rate_cols = [\"Fatal per Confirmed\", \"Recovered per Confirmed\", \"Fatal per (Fatal or Recovered)\"]\n",
        "variable_dict = {\"Susceptible\": \"S\", \"Infected\": \"I\", \"Recovered\": \"R\", \"Deaths\": \"D\"}"
      ],
      "execution_count": 0,
      "outputs": []
    },
    {
      "cell_type": "code",
      "metadata": {
        "id": "Rr02FPe1PU5F",
        "colab_type": "code",
        "outputId": "ba136278-5bd7-4444-89c5-1dee003a96b4",
        "colab": {
          "base_uri": "https://localhost:8080/",
          "height": 53
        }
      },
      "source": [
        "df = raw.rename({\"ObservationDate\": \"Date\", \"Province/State\": \"Province\"}, axis=1)\n",
        "df[\"Date\"] = pd.to_datetime(df[\"Date\"])\n",
        "df[\"Country\"] = df[\"Country/Region\"].replace(\n",
        "    {\n",
        "        \"Mainland China\": \"China\",\n",
        "        \"Hong Kong SAR\": \"Hong Kong\",\n",
        "        \"Taipei and environs\": \"Taiwan\",\n",
        "        \"Iran (Islamic Republic of)\": \"Iran\",\n",
        "        \"Republic of Korea\": \"South Korea\",\n",
        "        \"Republic of Ireland\": \"Ireland\",\n",
        "        \"Macao SAR\": \"Macau\",\n",
        "        \"Russian Federation\": \"Russia\",\n",
        "        \"Republic of Moldova\": \"Moldova\",\n",
        "        \"Taiwan*\": \"Taiwan\",\n",
        "        \"Cruise Ship\": \"Others\",\n",
        "        \"United Kingdom\": \"UK\",\n",
        "        \"Viet Nam\": \"Vietnam\",\n",
        "        \"Czechia\": \"Czech Republic\",\n",
        "        \"St. Martin\": \"Saint Martin\",\n",
        "        \"Cote d'Ivoire\": \"Ivory Coast\",\n",
        "        \"('St. Martin',)\": \"Saint Martin\",\n",
        "        \"Congo (Kinshasa)\": \"Congo\",\n",
        "    }\n",
        ")\n",
        "df[\"Province\"] = df[\"Province\"].fillna(\"-\").replace(\n",
        "    {\n",
        "        \"Cruise Ship\": \"Diamond Princess\",\n",
        "        \"Diamond Princess cruise ship\": \"Diamond Princess\"\n",
        "    }\n",
        ")\n",
        "df.loc[df[\"Country\"] == \"Diamond Princess\", [\"Country\", \"Province\"]] = [\"Others\", \"Diamond Princess\"]\n",
        "df[\"Infected\"] = df[\"Confirmed\"] - df[\"Deaths\"] - df[\"Recovered\"]\n",
        "df[data_cols_all] = df[data_cols_all].astype(np.int64)\n",
        "ncov_df_ungrouped = df.loc[:, [\"Date\", \"Country\", \"Province\", *data_cols_all]]\n",
        "#print(ncov_df_ungrouped.tail())\n",
        "infected_indians = np.full(shape=73,fill_value=0.0,dtype=np.float)                                   \n",
        "absd = np.array([0.0749,0.0754,0.0761,0.0769,0.0779,0.0790,0.0802,0.0816,0.0830,0.0842,0.0853,0.0863,0.0873,0.0882,0.0891]) \n",
        "infected_indians = np.concatenate([infected_indians, absd])\n",
        "pd.DataFrame(ncov_df_ungrouped.isnull().sum()).T\n",
        "\", \".join(ncov_df_ungrouped[\"Country\"].unique().tolist())"
      ],
      "execution_count": 74,
      "outputs": [
        {
          "output_type": "execute_result",
          "data": {
            "text/plain": [
              "'China, Hong Kong, Macau, Taiwan, US, Japan, Thailand, South Korea, Singapore, Philippines, Malaysia, Vietnam, Australia, Mexico, Brazil, Colombia, France, Nepal, Canada, Cambodia, Sri Lanka, Ivory Coast, Germany, Finland, United Arab Emirates, India, Italy, UK, Russia, Sweden, Spain, Belgium, Others, Egypt, Iran, Israel, Lebanon, Iraq, Oman, Afghanistan, Bahrain, Kuwait, Austria, Algeria, Croatia, Switzerland, Pakistan, Georgia, Greece, North Macedonia, Norway, Romania, Denmark, Estonia, Netherlands, San Marino,  Azerbaijan, Belarus, Iceland, Lithuania, New Zealand, Nigeria, North Ireland, Ireland, Luxembourg, Monaco, Qatar, Ecuador, Azerbaijan, Czech Republic, Armenia, Dominican Republic, Indonesia, Portugal, Andorra, Latvia, Morocco, Saudi Arabia, Senegal, Argentina, Chile, Jordan, Ukraine, Saint Barthelemy, Hungary, Faroe Islands, Gibraltar, Liechtenstein, Poland, Tunisia, Palestine, Bosnia and Herzegovina, Slovenia, South Africa, Bhutan, Cameroon, Costa Rica, Peru, Serbia, Slovakia, Togo, Vatican City, French Guiana, Malta, Martinique, Bulgaria, Maldives, Bangladesh, Moldova, Paraguay, Albania, Cyprus, Saint Martin, Brunei, occupied Palestinian territory, Burkina Faso, Channel Islands, Holy See, Mongolia, Panama, Bolivia, Honduras, Congo, Jamaica, Reunion, Turkey, Cuba, Guyana, Kazakhstan, Cayman Islands, Guadeloupe, Ethiopia, Sudan, Guinea, Antigua and Barbuda, Aruba, Kenya, Uruguay, Ghana, Jersey, Namibia, Seychelles, Trinidad and Tobago, Venezuela, Curacao, Eswatini, Gabon, Guatemala, Guernsey, Mauritania, Rwanda, Saint Lucia, Saint Vincent and the Grenadines, Suriname, Kosovo, Central African Republic, Congo (Brazzaville), Equatorial Guinea, Uzbekistan, Guam, Puerto Rico, Benin, Greenland, Liberia, Mayotte, Republic of the Congo, Somalia, Tanzania, The Bahamas, Barbados, Montenegro, The Gambia, Kyrgyzstan, Mauritius, Zambia, Djibouti, Gambia, The, Bahamas, The, Chad, El Salvador, Fiji, Nicaragua, Madagascar, Haiti, Angola, Cabo Verde, Niger, Papua New Guinea, Zimbabwe, Cape Verde, East Timor, Eritrea, Uganda, Bahamas, Dominica, Gambia, Grenada, Mozambique, Syria, Timor-Leste, Belize, Laos, Libya, Guinea-Bissau, Mali, Saint Kitts and Nevis, West Bank and Gaza, Burma, MS Zaandam, Botswana, Burundi, Sierra Leone, Malawi, South Sudan, Western Sahara, Sao Tome and Principe, Yemen'"
            ]
          },
          "metadata": {
            "tags": []
          },
          "execution_count": 74
        }
      ]
    },
    {
      "cell_type": "code",
      "metadata": {
        "id": "WMYV5iWhPY5F",
        "colab_type": "code",
        "outputId": "f76b1979-49d9-49a8-95fc-306eac6196b6",
        "colab": {
          "base_uri": "https://localhost:8080/",
          "height": 220
        }
      },
      "source": [
        "total_df = ncov_df_ungrouped.groupby(\"Date\").sum()\n",
        "total_df[rate_cols[0]] = total_df[\"Deaths\"] / total_df[data_cols].sum(axis=1)\n",
        "total_df[rate_cols[1]] = total_df[\"Recovered\"] / total_df[data_cols].sum(axis=1)\n",
        "total_df[rate_cols[2]] = total_df[\"Deaths\"] / (total_df[\"Deaths\"] + total_df[\"Recovered\"])\n",
        "total_df.tail()"
      ],
      "execution_count": 75,
      "outputs": [
        {
          "output_type": "execute_result",
          "data": {
            "text/html": [
              "<div>\n",
              "<style scoped>\n",
              "    .dataframe tbody tr th:only-of-type {\n",
              "        vertical-align: middle;\n",
              "    }\n",
              "\n",
              "    .dataframe tbody tr th {\n",
              "        vertical-align: top;\n",
              "    }\n",
              "\n",
              "    .dataframe thead th {\n",
              "        text-align: right;\n",
              "    }\n",
              "</style>\n",
              "<table border=\"1\" class=\"dataframe\">\n",
              "  <thead>\n",
              "    <tr style=\"text-align: right;\">\n",
              "      <th></th>\n",
              "      <th>Confirmed</th>\n",
              "      <th>Infected</th>\n",
              "      <th>Deaths</th>\n",
              "      <th>Recovered</th>\n",
              "      <th>Fatal per Confirmed</th>\n",
              "      <th>Recovered per Confirmed</th>\n",
              "      <th>Fatal per (Fatal or Recovered)</th>\n",
              "    </tr>\n",
              "    <tr>\n",
              "      <th>Date</th>\n",
              "      <th></th>\n",
              "      <th></th>\n",
              "      <th></th>\n",
              "      <th></th>\n",
              "      <th></th>\n",
              "      <th></th>\n",
              "      <th></th>\n",
              "    </tr>\n",
              "  </thead>\n",
              "  <tbody>\n",
              "    <tr>\n",
              "      <th>2020-04-07</th>\n",
              "      <td>1426096</td>\n",
              "      <td>1044177</td>\n",
              "      <td>81865</td>\n",
              "      <td>300054</td>\n",
              "      <td>0.057405</td>\n",
              "      <td>0.210402</td>\n",
              "      <td>0.214352</td>\n",
              "    </tr>\n",
              "    <tr>\n",
              "      <th>2020-04-08</th>\n",
              "      <td>1511104</td>\n",
              "      <td>1094105</td>\n",
              "      <td>88338</td>\n",
              "      <td>328661</td>\n",
              "      <td>0.058459</td>\n",
              "      <td>0.217497</td>\n",
              "      <td>0.211842</td>\n",
              "    </tr>\n",
              "    <tr>\n",
              "      <th>2020-04-09</th>\n",
              "      <td>1595350</td>\n",
              "      <td>1145920</td>\n",
              "      <td>95455</td>\n",
              "      <td>353975</td>\n",
              "      <td>0.059833</td>\n",
              "      <td>0.221879</td>\n",
              "      <td>0.212391</td>\n",
              "    </tr>\n",
              "    <tr>\n",
              "      <th>2020-04-10</th>\n",
              "      <td>1691719</td>\n",
              "      <td>1213098</td>\n",
              "      <td>102525</td>\n",
              "      <td>376096</td>\n",
              "      <td>0.060604</td>\n",
              "      <td>0.222316</td>\n",
              "      <td>0.214209</td>\n",
              "    </tr>\n",
              "    <tr>\n",
              "      <th>2020-04-11</th>\n",
              "      <td>1771514</td>\n",
              "      <td>1260901</td>\n",
              "      <td>108503</td>\n",
              "      <td>402110</td>\n",
              "      <td>0.061249</td>\n",
              "      <td>0.226987</td>\n",
              "      <td>0.212496</td>\n",
              "    </tr>\n",
              "  </tbody>\n",
              "</table>\n",
              "</div>"
            ],
            "text/plain": [
              "            Confirmed  ...  Fatal per (Fatal or Recovered)\n",
              "Date                   ...                                \n",
              "2020-04-07    1426096  ...                        0.214352\n",
              "2020-04-08    1511104  ...                        0.211842\n",
              "2020-04-09    1595350  ...                        0.212391\n",
              "2020-04-10    1691719  ...                        0.214209\n",
              "2020-04-11    1771514  ...                        0.212496\n",
              "\n",
              "[5 rows x 7 columns]"
            ]
          },
          "metadata": {
            "tags": []
          },
          "execution_count": 75
        }
      ]
    },
    {
      "cell_type": "code",
      "metadata": {
        "id": "BFuyftf_Pcm0",
        "colab_type": "code",
        "outputId": "25747389-342b-4e79-c682-419ea858c2e1",
        "colab": {
          "base_uri": "https://localhost:8080/",
          "height": 297
        }
      },
      "source": [
        "line_plot(total_df[data_cols], \"Total number of cases over time\")"
      ],
      "execution_count": 76,
      "outputs": [
        {
          "output_type": "display_data",
          "data": {
            "image/png": "[encoded data removed]",
            "text/plain": [
              "<Figure size 432x288 with 1 Axes>"
            ]
          },
          "metadata": {
            "tags": [],
            "needs_background": "light"
          }
        }
      ]
    },
    {
      "cell_type": "code",
      "metadata": {
        "id": "zEFQffloP-Is",
        "colab_type": "code",
        "outputId": "b95cefc8-1c71-443c-9499-62b50d3bcce3",
        "colab": {
          "base_uri": "https://localhost:8080/",
          "height": 297
        }
      },
      "source": [
        "line_plot(total_df[rate_cols], \"Global rate over time\", ylabel=\"\", math_scale=False)"
      ],
      "execution_count": 77,
      "outputs": [
        {
          "output_type": "display_data",
          "data": {
            "image/png": "[encoded data removed]",
            "text/plain": [
              "<Figure size 432x288 with 1 Axes>"
            ]
          },
          "metadata": {
            "tags": [],
            "needs_background": "light"
          }
        }
      ]
    },
    {
      "cell_type": "code",
      "metadata": {
        "id": "UUU60BYcQCXZ",
        "colab_type": "code",
        "colab": {}
      },
      "source": [
        "#total_df[rate_cols].head(5)"
      ],
      "execution_count": 0,
      "outputs": []
    },
    {
      "cell_type": "code",
      "metadata": {
        "id": "XyllS1jpQF8S",
        "colab_type": "code",
        "outputId": "f52790a8-fa29-4ab3-c336-50be82f54a16",
        "colab": {
          "base_uri": "https://localhost:8080/",
          "height": 133
        }
      },
      "source": [
        "total_df[rate_cols].describe().T"
      ],
      "execution_count": 79,
      "outputs": [
        {
          "output_type": "execute_result",
          "data": {
            "text/html": [
              "<div>\n",
              "<style scoped>\n",
              "    .dataframe tbody tr th:only-of-type {\n",
              "        vertical-align: middle;\n",
              "    }\n",
              "\n",
              "    .dataframe tbody tr th {\n",
              "        vertical-align: top;\n",
              "    }\n",
              "\n",
              "    .dataframe thead th {\n",
              "        text-align: right;\n",
              "    }\n",
              "</style>\n",
              "<table border=\"1\" class=\"dataframe\">\n",
              "  <thead>\n",
              "    <tr style=\"text-align: right;\">\n",
              "      <th></th>\n",
              "      <th>count</th>\n",
              "      <th>mean</th>\n",
              "      <th>std</th>\n",
              "      <th>min</th>\n",
              "      <th>25%</th>\n",
              "      <th>50%</th>\n",
              "      <th>75%</th>\n",
              "      <th>max</th>\n",
              "    </tr>\n",
              "  </thead>\n",
              "  <tbody>\n",
              "    <tr>\n",
              "      <th>Fatal per Confirmed</th>\n",
              "      <td>81.0</td>\n",
              "      <td>0.035452</td>\n",
              "      <td>0.011369</td>\n",
              "      <td>0.020408</td>\n",
              "      <td>0.025498</td>\n",
              "      <td>0.034036</td>\n",
              "      <td>0.043376</td>\n",
              "      <td>0.061249</td>\n",
              "    </tr>\n",
              "    <tr>\n",
              "      <th>Recovered per Confirmed</th>\n",
              "      <td>81.0</td>\n",
              "      <td>0.249411</td>\n",
              "      <td>0.172305</td>\n",
              "      <td>0.017365</td>\n",
              "      <td>0.104274</td>\n",
              "      <td>0.217497</td>\n",
              "      <td>0.387656</td>\n",
              "      <td>0.552602</td>\n",
              "    </tr>\n",
              "    <tr>\n",
              "      <th>Fatal per (Fatal or Recovered)</th>\n",
              "      <td>81.0</td>\n",
              "      <td>0.196325</td>\n",
              "      <td>0.142110</td>\n",
              "      <td>0.057464</td>\n",
              "      <td>0.088459</td>\n",
              "      <td>0.158960</td>\n",
              "      <td>0.214209</td>\n",
              "      <td>0.573427</td>\n",
              "    </tr>\n",
              "  </tbody>\n",
              "</table>\n",
              "</div>"
            ],
            "text/plain": [
              "                                count      mean  ...       75%       max\n",
              "Fatal per Confirmed              81.0  0.035452  ...  0.043376  0.061249\n",
              "Recovered per Confirmed          81.0  0.249411  ...  0.387656  0.552602\n",
              "Fatal per (Fatal or Recovered)   81.0  0.196325  ...  0.214209  0.573427\n",
              "\n",
              "[3 rows x 8 columns]"
            ]
          },
          "metadata": {
            "tags": []
          },
          "execution_count": 79
        }
      ]
    },
    {
      "cell_type": "code",
      "metadata": {
        "id": "mdMEoFUPQH_V",
        "colab_type": "code",
        "colab": {}
      },
      "source": [
        "india = ncov_df_ungrouped[ncov_df_ungrouped['Country'] == 'India']\n",
        "india_data = india\n",
        "india = india.drop(columns= ['Country', 'Province'])\n",
        "india = india.set_index('Date') "
      ],
      "execution_count": 0,
      "outputs": []
    },
    {
      "cell_type": "code",
      "metadata": {
        "id": "5dHXabupQKx5",
        "colab_type": "code",
        "outputId": "1dc6ce2d-de74-4e95-b8b3-7a6cd9502b81",
        "colab": {
          "base_uri": "https://localhost:8080/",
          "height": 220
        }
      },
      "source": [
        "india.head()"
      ],
      "execution_count": 81,
      "outputs": [
        {
          "output_type": "execute_result",
          "data": {
            "text/html": [
              "<div>\n",
              "<style scoped>\n",
              "    .dataframe tbody tr th:only-of-type {\n",
              "        vertical-align: middle;\n",
              "    }\n",
              "\n",
              "    .dataframe tbody tr th {\n",
              "        vertical-align: top;\n",
              "    }\n",
              "\n",
              "    .dataframe thead th {\n",
              "        text-align: right;\n",
              "    }\n",
              "</style>\n",
              "<table border=\"1\" class=\"dataframe\">\n",
              "  <thead>\n",
              "    <tr style=\"text-align: right;\">\n",
              "      <th></th>\n",
              "      <th>Confirmed</th>\n",
              "      <th>Infected</th>\n",
              "      <th>Deaths</th>\n",
              "      <th>Recovered</th>\n",
              "    </tr>\n",
              "    <tr>\n",
              "      <th>Date</th>\n",
              "      <th></th>\n",
              "      <th></th>\n",
              "      <th></th>\n",
              "      <th></th>\n",
              "    </tr>\n",
              "  </thead>\n",
              "  <tbody>\n",
              "    <tr>\n",
              "      <th>2020-01-30</th>\n",
              "      <td>1</td>\n",
              "      <td>1</td>\n",
              "      <td>0</td>\n",
              "      <td>0</td>\n",
              "    </tr>\n",
              "    <tr>\n",
              "      <th>2020-01-31</th>\n",
              "      <td>1</td>\n",
              "      <td>1</td>\n",
              "      <td>0</td>\n",
              "      <td>0</td>\n",
              "    </tr>\n",
              "    <tr>\n",
              "      <th>2020-02-01</th>\n",
              "      <td>1</td>\n",
              "      <td>1</td>\n",
              "      <td>0</td>\n",
              "      <td>0</td>\n",
              "    </tr>\n",
              "    <tr>\n",
              "      <th>2020-02-02</th>\n",
              "      <td>2</td>\n",
              "      <td>2</td>\n",
              "      <td>0</td>\n",
              "      <td>0</td>\n",
              "    </tr>\n",
              "    <tr>\n",
              "      <th>2020-02-03</th>\n",
              "      <td>3</td>\n",
              "      <td>3</td>\n",
              "      <td>0</td>\n",
              "      <td>0</td>\n",
              "    </tr>\n",
              "  </tbody>\n",
              "</table>\n",
              "</div>"
            ],
            "text/plain": [
              "            Confirmed  Infected  Deaths  Recovered\n",
              "Date                                              \n",
              "2020-01-30          1         1       0          0\n",
              "2020-01-31          1         1       0          0\n",
              "2020-02-01          1         1       0          0\n",
              "2020-02-02          2         2       0          0\n",
              "2020-02-03          3         3       0          0"
            ]
          },
          "metadata": {
            "tags": []
          },
          "execution_count": 81
        }
      ]
    },
    {
      "cell_type": "code",
      "metadata": {
        "id": "Ks365pyZQO0J",
        "colab_type": "code",
        "colab": {}
      },
      "source": [
        "italy = ncov_df_ungrouped[ncov_df_ungrouped['Country'] == 'Italy']\n",
        "italy = italy.drop(columns= ['Country', 'Province'])\n",
        "italy = italy.set_index('Date') "
      ],
      "execution_count": 0,
      "outputs": []
    },
    {
      "cell_type": "code",
      "metadata": {
        "id": "g9NBqUbZTREQ",
        "colab_type": "code",
        "colab": {}
      },
      "source": [
        "us_data =us_data.set_index('Date')"
      ],
      "execution_count": 0,
      "outputs": []
    },
    {
      "cell_type": "code",
      "metadata": {
        "id": "Gjw2s0pbQSM1",
        "colab_type": "code",
        "outputId": "d0ae0098-15e0-45e7-b85c-06332e664140",
        "colab": {
          "base_uri": "https://localhost:8080/",
          "height": 220
        }
      },
      "source": [
        "#us_data.head() \n",
        "us_data = us_data.drop(['SNo'], axis=1) \n",
        "us_data.head()"
      ],
      "execution_count": 84,
      "outputs": [
        {
          "output_type": "execute_result",
          "data": {
            "text/html": [
              "<div>\n",
              "<style scoped>\n",
              "    .dataframe tbody tr th:only-of-type {\n",
              "        vertical-align: middle;\n",
              "    }\n",
              "\n",
              "    .dataframe tbody tr th {\n",
              "        vertical-align: top;\n",
              "    }\n",
              "\n",
              "    .dataframe thead th {\n",
              "        text-align: right;\n",
              "    }\n",
              "</style>\n",
              "<table border=\"1\" class=\"dataframe\">\n",
              "  <thead>\n",
              "    <tr style=\"text-align: right;\">\n",
              "      <th></th>\n",
              "      <th>Confirmed</th>\n",
              "      <th>Deaths</th>\n",
              "      <th>Recovered</th>\n",
              "    </tr>\n",
              "    <tr>\n",
              "      <th>Date</th>\n",
              "      <th></th>\n",
              "      <th></th>\n",
              "      <th></th>\n",
              "    </tr>\n",
              "  </thead>\n",
              "  <tbody>\n",
              "    <tr>\n",
              "      <th>01/22/2020</th>\n",
              "      <td>1</td>\n",
              "      <td>0</td>\n",
              "      <td>0</td>\n",
              "    </tr>\n",
              "    <tr>\n",
              "      <th>01/23/2020</th>\n",
              "      <td>1</td>\n",
              "      <td>0</td>\n",
              "      <td>0</td>\n",
              "    </tr>\n",
              "    <tr>\n",
              "      <th>01/24/2020</th>\n",
              "      <td>2</td>\n",
              "      <td>0</td>\n",
              "      <td>0</td>\n",
              "    </tr>\n",
              "    <tr>\n",
              "      <th>01/25/2020</th>\n",
              "      <td>2</td>\n",
              "      <td>0</td>\n",
              "      <td>0</td>\n",
              "    </tr>\n",
              "    <tr>\n",
              "      <th>01/26/2020</th>\n",
              "      <td>5</td>\n",
              "      <td>0</td>\n",
              "      <td>0</td>\n",
              "    </tr>\n",
              "  </tbody>\n",
              "</table>\n",
              "</div>"
            ],
            "text/plain": [
              "            Confirmed  Deaths  Recovered\n",
              "Date                                    \n",
              "01/22/2020          1       0          0\n",
              "01/23/2020          1       0          0\n",
              "01/24/2020          2       0          0\n",
              "01/25/2020          2       0          0\n",
              "01/26/2020          5       0          0"
            ]
          },
          "metadata": {
            "tags": []
          },
          "execution_count": 84
        }
      ]
    },
    {
      "cell_type": "code",
      "metadata": {
        "id": "WBs5XtMoTVFV",
        "colab_type": "code",
        "colab": {}
      },
      "source": [
        "usa = us_data"
      ],
      "execution_count": 0,
      "outputs": []
    },
    {
      "cell_type": "code",
      "metadata": {
        "id": "xsIC_0CtS64C",
        "colab_type": "code",
        "outputId": "c696905e-f8ca-44af-aafa-e9885341d8dc",
        "colab": {
          "base_uri": "https://localhost:8080/",
          "height": 220
        }
      },
      "source": [
        "india.head()"
      ],
      "execution_count": 86,
      "outputs": [
        {
          "output_type": "execute_result",
          "data": {
            "text/html": [
              "<div>\n",
              "<style scoped>\n",
              "    .dataframe tbody tr th:only-of-type {\n",
              "        vertical-align: middle;\n",
              "    }\n",
              "\n",
              "    .dataframe tbody tr th {\n",
              "        vertical-align: top;\n",
              "    }\n",
              "\n",
              "    .dataframe thead th {\n",
              "        text-align: right;\n",
              "    }\n",
              "</style>\n",
              "<table border=\"1\" class=\"dataframe\">\n",
              "  <thead>\n",
              "    <tr style=\"text-align: right;\">\n",
              "      <th></th>\n",
              "      <th>Confirmed</th>\n",
              "      <th>Infected</th>\n",
              "      <th>Deaths</th>\n",
              "      <th>Recovered</th>\n",
              "    </tr>\n",
              "    <tr>\n",
              "      <th>Date</th>\n",
              "      <th></th>\n",
              "      <th></th>\n",
              "      <th></th>\n",
              "      <th></th>\n",
              "    </tr>\n",
              "  </thead>\n",
              "  <tbody>\n",
              "    <tr>\n",
              "      <th>2020-01-30</th>\n",
              "      <td>1</td>\n",
              "      <td>1</td>\n",
              "      <td>0</td>\n",
              "      <td>0</td>\n",
              "    </tr>\n",
              "    <tr>\n",
              "      <th>2020-01-31</th>\n",
              "      <td>1</td>\n",
              "      <td>1</td>\n",
              "      <td>0</td>\n",
              "      <td>0</td>\n",
              "    </tr>\n",
              "    <tr>\n",
              "      <th>2020-02-01</th>\n",
              "      <td>1</td>\n",
              "      <td>1</td>\n",
              "      <td>0</td>\n",
              "      <td>0</td>\n",
              "    </tr>\n",
              "    <tr>\n",
              "      <th>2020-02-02</th>\n",
              "      <td>2</td>\n",
              "      <td>2</td>\n",
              "      <td>0</td>\n",
              "      <td>0</td>\n",
              "    </tr>\n",
              "    <tr>\n",
              "      <th>2020-02-03</th>\n",
              "      <td>3</td>\n",
              "      <td>3</td>\n",
              "      <td>0</td>\n",
              "      <td>0</td>\n",
              "    </tr>\n",
              "  </tbody>\n",
              "</table>\n",
              "</div>"
            ],
            "text/plain": [
              "            Confirmed  Infected  Deaths  Recovered\n",
              "Date                                              \n",
              "2020-01-30          1         1       0          0\n",
              "2020-01-31          1         1       0          0\n",
              "2020-02-01          1         1       0          0\n",
              "2020-02-02          2         2       0          0\n",
              "2020-02-03          3         3       0          0"
            ]
          },
          "metadata": {
            "tags": []
          },
          "execution_count": 86
        }
      ]
    },
    {
      "cell_type": "code",
      "metadata": {
        "id": "_C20fcJzQTMu",
        "colab_type": "code",
        "outputId": "ec58bb16-3340-4491-e56c-92109256313a",
        "colab": {
          "base_uri": "https://localhost:8080/",
          "height": 297
        }
      },
      "source": [
        "line_plot(india, \"Spread in India\")"
      ],
      "execution_count": 87,
      "outputs": [
        {
          "output_type": "display_data",
          "data": {
            "image/png": "[encoded data removed]",
            "text/plain": [
              "<Figure size 432x288 with 1 Axes>"
            ]
          },
          "metadata": {
            "tags": [],
            "needs_background": "light"
          }
        }
      ]
    },
    {
      "cell_type": "code",
      "metadata": {
        "id": "nMOMcR1eQYrG",
        "colab_type": "code",
        "outputId": "ec10b15d-2412-445f-e0d3-bf2f12372d1d",
        "colab": {
          "base_uri": "https://localhost:8080/",
          "height": 297
        }
      },
      "source": [
        "line_plot(italy, \"Spread in Italy\")"
      ],
      "execution_count": 88,
      "outputs": [
        {
          "output_type": "display_data",
          "data": {
            "image/png": "[encoded data removed]",
            "text/plain": [
              "<Figure size 432x288 with 1 Axes>"
            ]
          },
          "metadata": {
            "tags": [],
            "needs_background": "light"
          }
        }
      ]
    },
    {
      "cell_type": "code",
      "metadata": {
        "id": "K8TXAGzVQbUt",
        "colab_type": "code",
        "outputId": "4f7d6e31-ac89-4232-94b6-3be3e308839b",
        "colab": {
          "base_uri": "https://localhost:8080/",
          "height": 297
        }
      },
      "source": [
        "line_plot(usa, \"Spread in USA\")"
      ],
      "execution_count": 89,
      "outputs": [
        {
          "output_type": "display_data",
          "data": {
            "image/png": "[encoded data removed]",
            "text/plain": [
              "<Figure size 432x288 with 1 Axes>"
            ]
          },
          "metadata": {
            "tags": [],
            "needs_background": "light"
          }
        }
      ]
    },
    {
      "cell_type": "code",
      "metadata": {
        "id": "5IZFFXsh_HAX",
        "colab_type": "code",
        "colab": {}
      },
      "source": [
        "def fa(N, a, b, beta):\n",
        "    fa = -beta*a*b\n",
        "    return fa\n",
        "\n",
        "# Infected equation\n",
        "def fb(N, a, b, beta, gamma):\n",
        "    fb = beta*a*b - gamma*b\n",
        "    return fb\n",
        "\n",
        "# Recovered/deceased equation\n",
        "def fc(N, b, gamma):\n",
        "    fc = gamma*b\n",
        "    return fc"
      ],
      "execution_count": 0,
      "outputs": []
    },
    {
      "cell_type": "code",
      "metadata": {
        "id": "ZFdeBQO-_Ljy",
        "colab_type": "code",
        "colab": {}
      },
      "source": [
        "def rK4(N, a, b, c, fa, fb, fc, beta, gamma, hs):\n",
        "    a1 = fa(N, a, b, beta)*hs\n",
        "    b1 = fb(N, a, b, beta, gamma)*hs\n",
        "    c1 = fc(N, b, gamma)*hs\n",
        "    ak = a + a1*0.5\n",
        "    bk = b + b1*0.5\n",
        "    ck = c + c1*0.5\n",
        "    a2 = fa(N, ak, bk, beta)*hs\n",
        "    b2 = fb(N, ak, bk, beta, gamma)*hs\n",
        "    c2 = fc(N, bk, gamma)*hs\n",
        "    ak = a + a2*0.5\n",
        "    bk = b + b2*0.5\n",
        "    ck = c + c2*0.5\n",
        "    a3 = fa(N, ak, bk, beta)*hs\n",
        "    b3 = fb(N, ak, bk, beta, gamma)*hs\n",
        "    c3 = fc(N, bk, gamma)*hs\n",
        "    ak = a + a3\n",
        "    bk = b + b3\n",
        "    ck = c + c3\n",
        "    a4 = fa(N, ak, bk, beta)*hs\n",
        "    b4 = fb(N, ak, bk, beta, gamma)*hs\n",
        "    c4 = fc(N, bk, gamma)*hs\n",
        "    a = a + (a1 + 2*(a2 + a3) + a4)/6\n",
        "    b = b + (b1 + 2*(b2 + b3) + b4)/6\n",
        "    c = c + (c1 + 2*(c2 + c3) + c4)/6\n",
        "    return a, b, c"
      ],
      "execution_count": 0,
      "outputs": []
    },
    {
      "cell_type": "code",
      "metadata": {
        "id": "wY4uqEu7_PZb",
        "colab_type": "code",
        "colab": {}
      },
      "source": [
        "def SIR(N, b0, beta, gamma, hs):\n",
        "    a = float(N-1)/N -b0\n",
        "    b = float(1)/N +b0\n",
        "    c = 0.\n",
        "\n",
        "    sus, inf, rec= [],[],[]\n",
        "    for i in range(10000): # Run for a certain number of time-steps\n",
        "        sus.append(a)\n",
        "        inf.append(b)\n",
        "        rec.append(c)\n",
        "        a,b,c = rK4(N, a, b, c, fa, fb, fc, beta, gamma, hs)\n",
        "\n",
        "    return sus, inf, rec"
      ],
      "execution_count": 0,
      "outputs": []
    },
    {
      "cell_type": "code",
      "metadata": {
        "id": "ODBzJv2e_SbG",
        "colab_type": "code",
        "colab": {}
      },
      "source": [
        "from scipy import integrate, optimize"
      ],
      "execution_count": 0,
      "outputs": []
    },
    {
      "cell_type": "code",
      "metadata": {
        "id": "KweF8H5n_WF8",
        "colab_type": "code",
        "outputId": "a15fdb68-38f1-4c1d-a772-572e35e1d9dd",
        "colab": {
          "base_uri": "https://localhost:8080/",
          "height": 311
        }
      },
      "source": [
        "population = population_dict['India']\n",
        "country_df = pd.DataFrame()\n",
        "country_df['ConfirmedCases'] = infected\n",
        "country_df = country_df[10:]\n",
        "country_df['day_count'] = list(range(1,len(country_df)+1))\n",
        "\n",
        "ydata = [i for i in country_df.ConfirmedCases]\n",
        "xdata = country_df.day_count+15\n",
        "ydata = np.array(ydata, dtype=float)\n",
        "xdata = np.array(xdata, dtype=float)\n",
        "\n",
        "N = population\n",
        "inf0 = ydata[0]\n",
        "sus0 = N - inf0\n",
        "rec0 = 0.0\n",
        "\n",
        "\n",
        "#t = np.linspace(0, 180, 180)\n",
        "\n",
        "def sir_model(y, x, beta, gamma):\n",
        "    sus = -beta * y[0] * y[1] / N\n",
        "    rec = gamma * y[1]\n",
        "    inf = -(sus + rec)\n",
        "    return sus, inf, rec\n",
        "\n",
        "def fit_odeint(x, beta, gamma):\n",
        "    return integrate.odeint(sir_model, (sus0, inf0, rec0), x, args=(beta, gamma))[:,1]\n",
        "\n",
        "#y0=sus0,inf0,rec0\n",
        "popt, pcov = optimize.curve_fit(fit_odeint, xdata, ydata)\n",
        "fitted = fit_odeint(xdata, *popt)\n",
        "#print(ydata.size)\n",
        "plt.plot(xdata, ydata, 'o')\n",
        "plt.plot(xdata, fitted)\n",
        "plt.title(\"Fit of SIR model for India infected cases\")\n",
        "plt.ylabel(\"Population infected\")\n",
        "plt.xlabel(\"Days\")\n",
        "plt.show()\n",
        "print(\"Optimal parameters: beta =\", popt[0], \" and gamma = \", popt[1])"
      ],
      "execution_count": 94,
      "outputs": [
        {
          "output_type": "display_data",
          "data": {
            "image/png": "[encoded data removed]",
            "text/plain": [
              "<Figure size 432x288 with 1 Axes>"
            ]
          },
          "metadata": {
            "tags": [],
            "needs_background": "light"
          }
        },
        {
          "output_type": "stream",
          "text": [
            "Optimal parameters: beta = 25.44203626894063  and gamma =  25.285406008814956\n"
          ],
          "name": "stdout"
        }
      ]
    },
    {
      "cell_type": "code",
      "metadata": {
        "id": "A5glhRidgXbQ",
        "colab_type": "code",
        "outputId": "c43efe38-f7d0-4d3a-ef09-4bb95c9599b5",
        "colab": {
          "base_uri": "https://localhost:8080/",
          "height": 350
        }
      },
      "source": [
        "N = population_dict['India']\n",
        "b0 = 0\n",
        "beta = 1.663\n",
        "gamma = 1.508\n",
        "hs = 0.1\n",
        "\n",
        "sus, inf, rec = SIR(N, b0, beta, gamma, hs)\n",
        "\n",
        "f = plt.figure(figsize=(8,5)) \n",
        "#plt.plot(sus, 'b.', label='susceptible');\n",
        "plt.plot(inf, 'r.', label='infected');\n",
        "plt.plot(rec, 'c.', label='recovered/deceased');\n",
        "plt.title(\"SIR model\")\n",
        "plt.xlabel(\"time\", fontsize=10);\n",
        "plt.ylabel(\"Fraction of population\", fontsize=10);\n",
        "plt.legend(loc='best')\n",
        "plt.xlim(0,2000)\n",
        "plt.ylim(0,0.2)\n",
        "plt.savefig('SIR_example.png')\n",
        "plt.show()"
      ],
      "execution_count": 95,
      "outputs": [
        {
          "output_type": "display_data",
          "data": {
            "image/png": "[encoded data removed]",
            "text/plain": [
              "<Figure size 576x360 with 1 Axes>"
            ]
          },
          "metadata": {
            "tags": [],
            "needs_background": "light"
          }
        }
      ]
    },
    {
      "cell_type": "code",
      "metadata": {
        "id": "F8MV472pAnkP",
        "colab_type": "code",
        "outputId": "51f9ad4d-04f9-4598-a092-2a447c299439",
        "colab": {
          "base_uri": "https://localhost:8080/",
          "height": 343
        }
      },
      "source": [
        "population = population_dict['India']\n",
        "country_df = pd.DataFrame()\n",
        "country_df['ConfirmedCases'] = india['Confirmed'].values\n",
        "country_df = country_df[10:]\n",
        "country_df['day_count'] = list(range(1,len(country_df)+1))\n",
        "\n",
        "ydata = [i for i in country_df.ConfirmedCases]\n",
        "xdata = country_df.day_count\n",
        "ydata = np.array(ydata, dtype=float)\n",
        "xdata = np.array(xdata, dtype=float)\n",
        "\n",
        "N = population\n",
        "inf0 = ydata[0]\n",
        "sus0 = N - inf0\n",
        "rec0 = 0.0\n",
        "\n",
        "def sir_model(y, x, beta, gamma):\n",
        "    sus = -beta * y[0] * y[1] / N\n",
        "    rec = gamma * y[1]\n",
        "    inf = -(sus + rec)\n",
        "    return sus, inf, rec\n",
        "\n",
        "def fit_odeint(x, beta, gamma):\n",
        "    return integrate.odeint(sir_model, (sus0, inf0, rec0), x, args=(beta, gamma))[:,1]\n",
        "\n",
        "popt, pcov = optimize.curve_fit(fit_odeint, xdata, ydata)\n",
        "fitted = fit_odeint(xdata, *popt)\n",
        "infected_indans = fitted\n",
        "plt.plot(xdata, ydata, 'o')\n",
        "plt.plot(xdata, fitted)\n",
        "plt.title(\"Fit of SIR model for India infected cases\")\n",
        "plt.ylabel(\"Population infected\")\n",
        "plt.xlabel(\"Days\")\n",
        "plt.show()\n",
        "print(\" beta =\", popt[0], \" and gamma = \", popt[1]*(-1))"
      ],
      "execution_count": 96,
      "outputs": [
        {
          "output_type": "stream",
          "text": [
            "/usr/local/lib/python3.6/dist-packages/scipy/integrate/odepack.py:248: ODEintWarning: Excess work done on this call (perhaps wrong Dfun type). Run with full_output = 1 to get quantitative information.\n",
            "  warnings.warn(warning_msg, ODEintWarning)\n"
          ],
          "name": "stderr"
        },
        {
          "output_type": "display_data",
          "data": {
            "image/png": "[encoded data removed]",
            "text/plain": [
              "<Figure size 432x288 with 1 Axes>"
            ]
          },
          "metadata": {
            "tags": [],
            "needs_background": "light"
          }
        },
        {
          "output_type": "stream",
          "text": [
            " beta = 0.001002393557002238  and gamma =  0.12690827538701768\n"
          ],
          "name": "stdout"
        }
      ]
    },
    {
      "cell_type": "code",
      "metadata": {
        "id": "9rhWweqeM7AX",
        "colab_type": "code",
        "outputId": "874b4337-1c6d-4069-ef9a-ea8e9d86b054",
        "colab": {
          "base_uri": "https://localhost:8080/",
          "height": 33
        }
      },
      "source": [
        "actual = np.array(country_df['ConfirmedCases'])\n",
        "list1 = actual.tolist()\n",
        "list2 = fitted.tolist()\n",
        "r2_score(list1, list2)"
      ],
      "execution_count": 97,
      "outputs": [
        {
          "output_type": "execute_result",
          "data": {
            "text/plain": [
              "0.9874896218757344"
            ]
          },
          "metadata": {
            "tags": []
          },
          "execution_count": 97
        }
      ]
    },
    {
      "cell_type": "code",
      "metadata": {
        "id": "ySxXa3D1wLRQ",
        "colab_type": "code",
        "outputId": "b57636a5-38a2-43ee-c851-a345f5ae57ab",
        "colab": {
          "base_uri": "https://localhost:8080/",
          "height": 388
        }
      },
      "source": [
        "N = 1000\n",
        "# Initial number of infected and recovered individuals, I0 and R0.\n",
        "I0, R0 = india['Confirmed'].min(), 0\n",
        "# Everyone else, S0, is susceptible to infection initially.\n",
        "S0 = N - I0 - R0\n",
        "# Contact rate, beta, and mean recovery rate, gamma, (in 1/days).\n",
        "beta, gamma = 0.18, 0.1\n",
        "# A grid of time points (in days)\n",
        "t = np.linspace(0, 100, 100)\n",
        "\n",
        "# The SIR model differential equations.\n",
        "def deriv(y, t, N, beta, gamma):\n",
        "    S, I, R = y\n",
        "    dSdt = -beta * S * I / N \n",
        "    dIdt = beta * S * I / N - gamma * I\n",
        "    dRdt = gamma * I\n",
        "    return dSdt, dIdt, dRdt\n",
        "\n",
        "# Initial conditions vector\n",
        "y0 = S0, I0, R0\n",
        "# Integrate the SIR equations over the time grid, t.\n",
        "ret = odeint(deriv, y0, t, args=(N, beta, gamma))\n",
        "S, I, R = ret.T\n",
        "\n",
        "# Plot the data on three separate curves for S(t), I(t) and R(t)\n",
        "fig = plt.figure(figsize=(8, 6),facecolor='w')\n",
        "ax = fig.add_subplot(111, axisbelow=True)\n",
        "#print(infected.shape)\n",
        "#ax.plot(days_since_start, infected/1376826, 'yellow', alpha=0.5, lw=2,label='infected indians')\n",
        "ax.plot(t, S/1000, 'b', alpha=0.5, lw=2, label='Susceptible without lockdown')\n",
        "ax.plot(t, I/1000, 'r', alpha=0.5, lw=2, label='Infected without lockdown')\n",
        "ax.plot(t, R/1000, 'g', alpha=0.5, lw=2, label='Recovered without lockdown')\n",
        "ax.set_xlabel('Time /days')\n",
        "ax.set_ylabel('Number (1000s)')\n",
        "ax.set_ylim(0,1)\n",
        "ax.yaxis.set_tick_params(length=0)\n",
        "ax.xaxis.set_tick_params(length=0)\n",
        "ax.grid(b=True, which='major', c='w', lw=2, ls='-')\n",
        "legend = ax.legend()\n",
        "legend.get_frame().set_alpha(0.5)\n",
        "for spine in ('top', 'right', 'bottom', 'left'):\n",
        "    ax.spines[spine].set_visible(False)\n",
        "plt.show()"
      ],
      "execution_count": 98,
      "outputs": [
        {
          "output_type": "display_data",
          "data": {
            "image/png": "[encoded data removed]",
            "text/plain": [
              "<Figure size 576x432 with 1 Axes>"
            ]
          },
          "metadata": {
            "tags": []
          }
        }
      ]
    },
    {
      "cell_type": "code",
      "metadata": {
        "id": "W7zjc4gdHyVD",
        "colab_type": "code",
        "colab": {}
      },
      "source": [
        "def fa(N, a, b, beta):\n",
        "    fa = -beta*a*b\n",
        "    return fa\n",
        "\n",
        "# Infected equation\n",
        "def fb(N, a, b, beta, gamma):\n",
        "    fb = beta*a*b - gamma*b\n",
        "    return fb\n",
        "\n",
        "# Recovered/deceased equation\n",
        "def fc(N, b, gamma):\n",
        "    fc = gamma*b\n",
        "    return fc\n",
        "\n",
        "\n",
        "def rK4(N, a, b, c, fa, fb, fc, beta, gamma, hs):\n",
        "    a1 = fa(N, a, b, beta)*hs\n",
        "    b1 = fb(N, a, b, beta, gamma)*hs\n",
        "    c1 = fc(N, b, gamma)*hs\n",
        "    ak = a + a1*0.5\n",
        "    bk = b + b1*0.5\n",
        "    ck = c + c1*0.5\n",
        "    a2 = fa(N, ak, bk, beta)*hs\n",
        "    b2 = fb(N, ak, bk, beta, gamma)*hs\n",
        "    c2 = fc(N, bk, gamma)*hs\n",
        "    ak = a + a2*0.5\n",
        "    bk = b + b2*0.5\n",
        "    ck = c + c2*0.5\n",
        "    a3 = fa(N, ak, bk, beta)*hs\n",
        "    b3 = fb(N, ak, bk, beta, gamma)*hs\n",
        "    c3 = fc(N, bk, gamma)*hs\n",
        "    ak = a + a3\n",
        "    bk = b + b3\n",
        "    ck = c + c3\n",
        "    a4 = fa(N, ak, bk, beta)*hs\n",
        "    b4 = fb(N, ak, bk, beta, gamma)*hs\n",
        "    c4 = fc(N, bk, gamma)*hs\n",
        "    a = a + (a1 + 2*(a2 + a3) + a4)/6\n",
        "    b = b + (b1 + 2*(b2 + b3) + b4)/6\n",
        "    c = c + (c1 + 2*(c2 + c3) + c4)/6\n",
        "    return a, b, c\n",
        "\n",
        "\n",
        "def SIR(N, b0, beta, gamma, hs):\n",
        "    a = float(N-1)/N -b0\n",
        "    b = float(1)/N +b0\n",
        "    c = 0.\n",
        "\n",
        "    sus, inf, rec= [],[],[]\n",
        "    for i in range(10000): # Run for a certain number of time-steps\n",
        "        sus.append(a)\n",
        "        inf.append(b)\n",
        "        rec.append(c)\n",
        "        a,b,c = rK4(N, a, b, c, fa, fb, fc, beta, gamma, hs)\n",
        "\n",
        "    return sus, inf, rec"
      ],
      "execution_count": 0,
      "outputs": []
    },
    {
      "cell_type": "code",
      "metadata": {
        "id": "FP2f8CZNIFCl",
        "colab_type": "code",
        "colab": {}
      },
      "source": [
        "from scipy import integrate, optimize"
      ],
      "execution_count": 0,
      "outputs": []
    },
    {
      "cell_type": "code",
      "metadata": {
        "id": "nwoMzlkmG9UD",
        "colab_type": "code",
        "outputId": "b971ae19-2ede-4b60-ad8c-90257b5c25e0",
        "colab": {
          "base_uri": "https://localhost:8080/",
          "height": 392
        }
      },
      "source": [
        "population = population_dict['Italy']\n",
        "country_df = pd.DataFrame()\n",
        "country_df['ConfirmedCases'] = italy['Confirmed'].values\n",
        "country_df = country_df[10:]\n",
        "country_df['day_count'] = list(range(1,len(country_df)+1))\n",
        "\n",
        "ydata = [i for i in country_df.ConfirmedCases]\n",
        "xdata = country_df.day_count\n",
        "ydata = np.array(ydata, dtype=float)\n",
        "xdata = np.array(xdata, dtype=float)\n",
        "\n",
        "N = population\n",
        "inf0 = ydata[0]\n",
        "sus0 = N - inf0\n",
        "rec0 = 0.0\n",
        "\n",
        "def sir_model(y, x, beta, gamma):\n",
        "    sus = -beta * y[0] * y[1] / N\n",
        "    rec = gamma * y[1]\n",
        "    inf = -(sus + rec)\n",
        "    return sus, inf, rec\n",
        "\n",
        "def fit_odeint(x, beta, gamma):\n",
        "    return integrate.odeint(sir_model, (sus0, inf0, rec0), x, args=(beta, gamma))[:,1]\n",
        "\n",
        "popt, pcov = optimize.curve_fit(fit_odeint, xdata, ydata)\n",
        "fitted = fit_odeint(xdata, *popt)\n",
        "\n",
        "plt.plot(xdata, ydata, 'o')\n",
        "plt.plot(xdata, fitted)\n",
        "plt.title(\"Fit of SIR model for Italy infected cases\")\n",
        "plt.ylabel(\"Population infected\")\n",
        "plt.xlabel(\"Days\")\n",
        "plt.show()\n",
        "print(\"Optimal parameters: beta =\", popt[0], \" and gamma = \", popt[1])"
      ],
      "execution_count": 101,
      "outputs": [
        {
          "output_type": "stream",
          "text": [
            "/usr/local/lib/python3.6/dist-packages/scipy/integrate/odepack.py:248: ODEintWarning: Excess work done on this call (perhaps wrong Dfun type). Run with full_output = 1 to get quantitative information.\n",
            "  warnings.warn(warning_msg, ODEintWarning)\n",
            "/usr/local/lib/python3.6/dist-packages/ipykernel_launcher.py:18: RuntimeWarning: overflow encountered in double_scalars\n",
            "/usr/local/lib/python3.6/dist-packages/ipykernel_launcher.py:19: RuntimeWarning: overflow encountered in double_scalars\n",
            "/usr/local/lib/python3.6/dist-packages/ipykernel_launcher.py:20: RuntimeWarning: invalid value encountered in double_scalars\n"
          ],
          "name": "stderr"
        },
        {
          "output_type": "display_data",
          "data": {
            "image/png": "[encoded data removed]",
            "text/plain": [
              "<Figure size 432x288 with 1 Axes>"
            ]
          },
          "metadata": {
            "tags": [],
            "needs_background": "light"
          }
        },
        {
          "output_type": "stream",
          "text": [
            "Optimal parameters: beta = 3.1656984063288776  and gamma =  2.9437322517892874\n"
          ],
          "name": "stdout"
        }
      ]
    },
    {
      "cell_type": "code",
      "metadata": {
        "id": "8A-xPPBwMszd",
        "colab_type": "code",
        "outputId": "1563bfe6-39da-423b-912c-f53e69c18a43",
        "colab": {
          "base_uri": "https://localhost:8080/",
          "height": 33
        }
      },
      "source": [
        "actual = np.array(country_df['ConfirmedCases'])\n",
        "list1 = actual.tolist()\n",
        "list2 = fitted.tolist()\n",
        "r2_score(list1, list2)"
      ],
      "execution_count": 102,
      "outputs": [
        {
          "output_type": "execute_result",
          "data": {
            "text/plain": [
              "0.8898582899368166"
            ]
          },
          "metadata": {
            "tags": []
          },
          "execution_count": 102
        }
      ]
    },
    {
      "cell_type": "code",
      "metadata": {
        "id": "aJ9lf4UETljh",
        "colab_type": "code",
        "outputId": "405063c2-3731-42b6-f665-f64d375a3b88",
        "colab": {
          "base_uri": "https://localhost:8080/",
          "height": 376
        }
      },
      "source": [
        "population = population_dict['US']\n",
        "country_df = pd.DataFrame()\n",
        "country_df['ConfirmedCases'] = usa['Confirmed'].values\n",
        "country_df = country_df[10:]\n",
        "country_df['day_count'] = list(range(1,len(country_df)+1))\n",
        "\n",
        "ydata = [i for i in country_df.ConfirmedCases]\n",
        "xdata = country_df.day_count\n",
        "ydata = np.array(ydata, dtype=float)\n",
        "xdata = np.array(xdata, dtype=float)\n",
        "\n",
        "N = population\n",
        "inf0 = ydata[0]\n",
        "sus0 = N - inf0\n",
        "rec0 = 0.0\n",
        "\n",
        "def sir_model(y, x, beta, gamma):\n",
        "    sus = -beta * y[0] * y[1] / N\n",
        "    rec = gamma * y[1]\n",
        "    inf = -(sus + rec)\n",
        "    return sus, inf, rec\n",
        "\n",
        "def fit_odeint(x, beta, gamma):\n",
        "    return integrate.odeint(sir_model, (sus0, inf0, rec0), x, args=(beta, gamma))[:,1]\n",
        "\n",
        "popt, pcov = optimize.curve_fit(fit_odeint, xdata, ydata)\n",
        "fitted = fit_odeint(xdata, *popt)\n",
        "\n",
        "plt.plot(xdata, ydata, 'o')\n",
        "plt.plot(xdata, fitted)\n",
        "plt.title(\"Fit of SIR model for USA infected cases\")\n",
        "plt.ylabel(\"Population infected\")\n",
        "plt.xlabel(\"Days\")\n",
        "plt.show()\n",
        "print(\"Optimal parameters: beta =\", popt[0], \" and gamma = \", popt[1])"
      ],
      "execution_count": 103,
      "outputs": [
        {
          "output_type": "stream",
          "text": [
            "/usr/local/lib/python3.6/dist-packages/scipy/integrate/odepack.py:248: ODEintWarning: Excess work done on this call (perhaps wrong Dfun type). Run with full_output = 1 to get quantitative information.\n",
            "  warnings.warn(warning_msg, ODEintWarning)\n",
            "/usr/local/lib/python3.6/dist-packages/ipykernel_launcher.py:18: RuntimeWarning: overflow encountered in double_scalars\n",
            "/usr/local/lib/python3.6/dist-packages/ipykernel_launcher.py:19: RuntimeWarning: overflow encountered in double_scalars\n"
          ],
          "name": "stderr"
        },
        {
          "output_type": "display_data",
          "data": {
            "image/png": "[encoded data removed]",
            "text/plain": [
              "<Figure size 432x288 with 1 Axes>"
            ]
          },
          "metadata": {
            "tags": [],
            "needs_background": "light"
          }
        },
        {
          "output_type": "stream",
          "text": [
            "Optimal parameters: beta = 3.060400117754389  and gamma =  2.887132934811083\n"
          ],
          "name": "stdout"
        }
      ]
    },
    {
      "cell_type": "code",
      "metadata": {
        "id": "Ogj3wdjJKD_N",
        "colab_type": "code",
        "outputId": "095a9fbc-043d-49f4-fd77-b879ef26badb",
        "colab": {
          "base_uri": "https://localhost:8080/",
          "height": 33
        }
      },
      "source": [
        "actual = np.array(country_df['ConfirmedCases'])\n",
        "list1 = actual.tolist()\n",
        "list2 = fitted.tolist()\n",
        "r2_score(list1, list2)"
      ],
      "execution_count": 104,
      "outputs": [
        {
          "output_type": "execute_result",
          "data": {
            "text/plain": [
              "0.9981791199441333"
            ]
          },
          "metadata": {
            "tags": []
          },
          "execution_count": 104
        }
      ]
    }
  ]
}